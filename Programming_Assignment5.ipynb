{
 "cells": [
  {
   "cell_type": "markdown",
   "metadata": {},
   "source": [
    "Q1 LCM"
   ]
  },
  {
   "cell_type": "code",
   "execution_count": 49,
   "metadata": {},
   "outputs": [],
   "source": [
    "def lcm2(a,b):\n",
    "    if ((a<=0) or (b<=0) or (type(a)!=int) or (type(b)!=int)):\n",
    "        return \"Please enter positive integers.\"\n",
    "    elif a>b: c=a\n",
    "    elif a<b: c=b\n",
    "    for i in range(c,100000000):\n",
    "        if ((c%a==0) and (c%b==0)):\n",
    "            l=c\n",
    "            return l\n",
    "        c+=1 \n",
    "    l=c\n",
    "    return l            "
   ]
  },
  {
   "cell_type": "code",
   "execution_count": 51,
   "metadata": {},
   "outputs": [
    {
     "data": {
      "text/plain": [
       "'Please enter positive integers.'"
      ]
     },
     "execution_count": 51,
     "metadata": {},
     "output_type": "execute_result"
    }
   ],
   "source": [
    "lcm2(-20,3)"
   ]
  },
  {
   "cell_type": "code",
   "execution_count": 54,
   "metadata": {},
   "outputs": [
    {
     "data": {
      "text/plain": [
       "60"
      ]
     },
     "execution_count": 54,
     "metadata": {},
     "output_type": "execute_result"
    }
   ],
   "source": [
    "lcm2(20,3)"
   ]
  },
  {
   "cell_type": "code",
   "execution_count": 56,
   "metadata": {},
   "outputs": [
    {
     "data": {
      "text/plain": [
       "30"
      ]
     },
     "execution_count": 56,
     "metadata": {},
     "output_type": "execute_result"
    }
   ],
   "source": [
    "lcm2(2,30)"
   ]
  },
  {
   "cell_type": "markdown",
   "metadata": {},
   "source": [
    "Q2"
   ]
  },
  {
   "cell_type": "code",
   "execution_count": 52,
   "metadata": {},
   "outputs": [],
   "source": [
    "def hcf2(a,b):\n",
    "    if ((a<=0) or (b<=0) or (type(a)!=int) or (type(b)!=int)):\n",
    "        return \"Please enter positive integers.\"\n",
    "    elif a>b: c=a\n",
    "    elif a<b: c=b\n",
    "    h=1\n",
    "    for i in range(2,c+1):\n",
    "        if(a%i==0 and b%i==0):\n",
    "            h = i\n",
    "    return h"
   ]
  },
  {
   "cell_type": "code",
   "execution_count": 53,
   "metadata": {},
   "outputs": [
    {
     "data": {
      "text/plain": [
       "'Please enter positive integers.'"
      ]
     },
     "execution_count": 53,
     "metadata": {},
     "output_type": "execute_result"
    }
   ],
   "source": [
    "hcf2(-20,3)"
   ]
  },
  {
   "cell_type": "code",
   "execution_count": 57,
   "metadata": {},
   "outputs": [
    {
     "data": {
      "text/plain": [
       "1"
      ]
     },
     "execution_count": 57,
     "metadata": {},
     "output_type": "execute_result"
    }
   ],
   "source": [
    "hcf2(20,3)"
   ]
  },
  {
   "cell_type": "code",
   "execution_count": 58,
   "metadata": {},
   "outputs": [
    {
     "data": {
      "text/plain": [
       "4"
      ]
     },
     "execution_count": 58,
     "metadata": {},
     "output_type": "execute_result"
    }
   ],
   "source": [
    "hcf2(4,20)"
   ]
  },
  {
   "cell_type": "markdown",
   "metadata": {},
   "source": [
    "Q3"
   ]
  },
  {
   "cell_type": "code",
   "execution_count": 62,
   "metadata": {},
   "outputs": [],
   "source": [
    "def d_boh(a):\n",
    "    if type(a)!=int: return \"Please enter integers only\"\n",
    "    c= int(input (\"To convert in binary enter 2\\nTo convert in octal enter 8\\nTo convert in hexa enter 16\\n\"))\n",
    "    if c==2: return bin(a).replace(\"0b\", \"\")\n",
    "    elif c==8: return oct(a).replace(\"0o\", \"\")\n",
    "    elif c==16: return hex(a).upper().replace(\"0X\", \"\")\n",
    "    else : return \"Wrong input\"\n"
   ]
  },
  {
   "cell_type": "code",
   "execution_count": 64,
   "metadata": {},
   "outputs": [
    {
     "name": "stdout",
     "output_type": "stream",
     "text": [
      "To convert in binary enter 2\n",
      "To convert in octal enter 8\n",
      "To convert in hexa enter 16\n",
      "2\n"
     ]
    },
    {
     "data": {
      "text/plain": [
       "'1010'"
      ]
     },
     "execution_count": 64,
     "metadata": {},
     "output_type": "execute_result"
    }
   ],
   "source": [
    "d_boh(10)"
   ]
  },
  {
   "cell_type": "code",
   "execution_count": 65,
   "metadata": {},
   "outputs": [
    {
     "name": "stdout",
     "output_type": "stream",
     "text": [
      "To convert in binary enter 2\n",
      "To convert in octal enter 8\n",
      "To convert in hexa enter 16\n",
      "8\n"
     ]
    },
    {
     "data": {
      "text/plain": [
       "'12'"
      ]
     },
     "execution_count": 65,
     "metadata": {},
     "output_type": "execute_result"
    }
   ],
   "source": [
    "d_boh(10)"
   ]
  },
  {
   "cell_type": "code",
   "execution_count": 66,
   "metadata": {},
   "outputs": [
    {
     "name": "stdout",
     "output_type": "stream",
     "text": [
      "To convert in binary enter 2\n",
      "To convert in octal enter 8\n",
      "To convert in hexa enter 16\n",
      "16\n"
     ]
    },
    {
     "data": {
      "text/plain": [
       "'A'"
      ]
     },
     "execution_count": 66,
     "metadata": {},
     "output_type": "execute_result"
    }
   ],
   "source": [
    "d_boh(10)"
   ]
  },
  {
   "cell_type": "code",
   "execution_count": 67,
   "metadata": {},
   "outputs": [
    {
     "name": "stdout",
     "output_type": "stream",
     "text": [
      "To convert in binary enter 2\n",
      "To convert in octal enter 8\n",
      "To convert in hexa enter 16\n",
      "3\n"
     ]
    },
    {
     "data": {
      "text/plain": [
       "'Wrong input'"
      ]
     },
     "execution_count": 67,
     "metadata": {},
     "output_type": "execute_result"
    }
   ],
   "source": [
    "d_boh(10)"
   ]
  },
  {
   "cell_type": "markdown",
   "metadata": {},
   "source": [
    "Q4"
   ]
  },
  {
   "cell_type": "code",
   "execution_count": 80,
   "metadata": {},
   "outputs": [],
   "source": [
    "def asci_val(a):\n",
    "    if len(a)!=1:return \"Please enter single character only.\"\n",
    "    elif type(a)!=str:return \"Please string character only.\"\n",
    "    else: return (ord(a))"
   ]
  },
  {
   "cell_type": "code",
   "execution_count": 81,
   "metadata": {},
   "outputs": [
    {
     "data": {
      "text/plain": [
       "'Please enter single character only.'"
      ]
     },
     "execution_count": 81,
     "metadata": {},
     "output_type": "execute_result"
    }
   ],
   "source": [
    "asci_val('100')"
   ]
  },
  {
   "cell_type": "code",
   "execution_count": 83,
   "metadata": {},
   "outputs": [
    {
     "data": {
      "text/plain": [
       "35"
      ]
     },
     "execution_count": 83,
     "metadata": {},
     "output_type": "execute_result"
    }
   ],
   "source": [
    "asci_val('#')"
   ]
  },
  {
   "cell_type": "markdown",
   "metadata": {},
   "source": [
    "Q5"
   ]
  },
  {
   "cell_type": "code",
   "execution_count": 87,
   "metadata": {},
   "outputs": [],
   "source": [
    "def simple_cal(a,b):\n",
    "    if (type(a)!=(int or float) or type(b)!=(int or float)): return \"Enter only numbers\"\n",
    "    c=str(input(\"Enter + for addition\\nEnter - for substraction\\nEnter * for multiplication\\nEnter / for division\\n\"))\n",
    "    if c=='+': return a+b\n",
    "    elif c=='-': return a-b\n",
    "    elif c=='*': return a*b\n",
    "    elif c=='/':\n",
    "        if b==0: return\"Denominator cannot be 0\"\n",
    "        else: return round(a/b,2)\n",
    "    else: return\"Wrong input\"\n",
    "    "
   ]
  },
  {
   "cell_type": "code",
   "execution_count": 85,
   "metadata": {},
   "outputs": [
    {
     "name": "stdout",
     "output_type": "stream",
     "text": [
      "Enter + for addition\n",
      "Enter - for substraction\n",
      "Enter * for multiplication\n",
      "Enter / for division\n",
      "/\n"
     ]
    },
    {
     "data": {
      "text/plain": [
       "'Denominator cannot be 0'"
      ]
     },
     "execution_count": 85,
     "metadata": {},
     "output_type": "execute_result"
    }
   ],
   "source": [
    "simple_cal(10,0)"
   ]
  },
  {
   "cell_type": "code",
   "execution_count": 88,
   "metadata": {},
   "outputs": [
    {
     "name": "stdout",
     "output_type": "stream",
     "text": [
      "Enter + for addition\n",
      "Enter - for substraction\n",
      "Enter * for multiplication\n",
      "Enter / for division\n",
      "/\n"
     ]
    },
    {
     "data": {
      "text/plain": [
       "3.33"
      ]
     },
     "execution_count": 88,
     "metadata": {},
     "output_type": "execute_result"
    }
   ],
   "source": [
    "simple_cal(10,3)"
   ]
  },
  {
   "cell_type": "code",
   "execution_count": 90,
   "metadata": {},
   "outputs": [
    {
     "data": {
      "text/plain": [
       "'Enter only numbers'"
      ]
     },
     "execution_count": 90,
     "metadata": {},
     "output_type": "execute_result"
    }
   ],
   "source": [
    "simple_cal('a',3)"
   ]
  },
  {
   "cell_type": "code",
   "execution_count": null,
   "metadata": {},
   "outputs": [],
   "source": []
  }
 ],
 "metadata": {
  "kernelspec": {
   "display_name": "Python 3",
   "language": "python",
   "name": "python3"
  },
  "language_info": {
   "codemirror_mode": {
    "name": "ipython",
    "version": 3
   },
   "file_extension": ".py",
   "mimetype": "text/x-python",
   "name": "python",
   "nbconvert_exporter": "python",
   "pygments_lexer": "ipython3",
   "version": "3.7.6"
  }
 },
 "nbformat": 4,
 "nbformat_minor": 4
}
