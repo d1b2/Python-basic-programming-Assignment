{
 "cells": [
  {
   "cell_type": "markdown",
   "metadata": {},
   "source": [
    "1.\tWrite a Python program to find sum of elements in list?"
   ]
  },
  {
   "cell_type": "code",
   "execution_count": 2,
   "metadata": {},
   "outputs": [
    {
     "name": "stdout",
     "output_type": "stream",
     "text": [
      "Sum of all elements in list are : 348\n"
     ]
    }
   ],
   "source": [
    "l=[10,20,17,99,87,63,52]\n",
    "total=sum(l)\n",
    "print(\"Sum of all elements in list are :\",total)"
   ]
  },
  {
   "cell_type": "code",
   "execution_count": null,
   "metadata": {},
   "outputs": [],
   "source": []
  },
  {
   "cell_type": "markdown",
   "metadata": {},
   "source": [
    "2.\tWrite a Python program to  Multiply all numbers in the list?"
   ]
  },
  {
   "cell_type": "code",
   "execution_count": 5,
   "metadata": {},
   "outputs": [
    {
     "name": "stdout",
     "output_type": "stream",
     "text": [
      "Product of all elements in list are : 1445758688\n"
     ]
    }
   ],
   "source": [
    "import numpy as np\n",
    "total1=np.prod(l)\n",
    "print(\"Product of all elements in list are :\",total1)"
   ]
  },
  {
   "cell_type": "code",
   "execution_count": null,
   "metadata": {},
   "outputs": [],
   "source": []
  },
  {
   "cell_type": "markdown",
   "metadata": {},
   "source": [
    "\n",
    "3.\tWrite a Python program to find smallest number in a list?"
   ]
  },
  {
   "cell_type": "code",
   "execution_count": 6,
   "metadata": {},
   "outputs": [
    {
     "name": "stdout",
     "output_type": "stream",
     "text": [
      "Smallest element in list is: 10\n"
     ]
    }
   ],
   "source": [
    "print(\"Smallest number in list is:\", min(l))"
   ]
  },
  {
   "cell_type": "code",
   "execution_count": 7,
   "metadata": {},
   "outputs": [
    {
     "name": "stdout",
     "output_type": "stream",
     "text": [
      "Smallest element is: 10\n"
     ]
    }
   ],
   "source": [
    "l.sort()\n",
    "print(\"Smallest number in list is :\", *l[:1])"
   ]
  },
  {
   "cell_type": "markdown",
   "metadata": {},
   "source": [
    "\n",
    "4.\tWrite a Python program to find largest number in a list?"
   ]
  },
  {
   "cell_type": "code",
   "execution_count": 8,
   "metadata": {},
   "outputs": [
    {
     "name": "stdout",
     "output_type": "stream",
     "text": [
      "Largest number in list is: 99\n"
     ]
    }
   ],
   "source": [
    "print(\"Largest number in list is:\", max(l))"
   ]
  },
  {
   "cell_type": "code",
   "execution_count": 10,
   "metadata": {},
   "outputs": [
    {
     "name": "stdout",
     "output_type": "stream",
     "text": [
      "Largest number in list is:  99\n"
     ]
    }
   ],
   "source": [
    "l.sort()\n",
    "print(\"Largest number in list is: \",*l[-1:])"
   ]
  },
  {
   "cell_type": "markdown",
   "metadata": {},
   "source": [
    "\n",
    "5.\tWrite a Python program to find second largest number in a list?"
   ]
  },
  {
   "cell_type": "code",
   "execution_count": 12,
   "metadata": {},
   "outputs": [
    {
     "name": "stdout",
     "output_type": "stream",
     "text": [
      "Second largest number in list is:  87\n"
     ]
    }
   ],
   "source": [
    "l.sort()\n",
    "print(\"Second largest number in list is: \",*l[-2:-1])"
   ]
  },
  {
   "cell_type": "code",
   "execution_count": null,
   "metadata": {},
   "outputs": [],
   "source": []
  },
  {
   "cell_type": "markdown",
   "metadata": {},
   "source": [
    "\n",
    "6.\tWrite a Python program to find N largest elements from a list?"
   ]
  },
  {
   "cell_type": "code",
   "execution_count": 15,
   "metadata": {},
   "outputs": [
    {
     "name": "stdout",
     "output_type": "stream",
     "text": [
      "Enter the value of n: 3\n",
      "3 largest number in list is:  63\n"
     ]
    }
   ],
   "source": [
    "a=(int(input(\"Enter the value of n: \")))\n",
    "l.sort()\n",
    "if a<=len(l):\n",
    "    print(a,\"largest number in list is: \",*l[-a:-a+1])\n",
    "else:\n",
    "    print(a,\"is larger than lenght of list \")"
   ]
  },
  {
   "cell_type": "code",
   "execution_count": null,
   "metadata": {},
   "outputs": [],
   "source": []
  },
  {
   "cell_type": "markdown",
   "metadata": {},
   "source": [
    "\n",
    "7.\tWrite a Python program to print even numbers in a list?"
   ]
  },
  {
   "cell_type": "code",
   "execution_count": 17,
   "metadata": {},
   "outputs": [
    {
     "name": "stdout",
     "output_type": "stream",
     "text": [
      "Even numbers in list are:  [10, 20, 52]\n"
     ]
    }
   ],
   "source": [
    "even=[]\n",
    "odd=[]\n",
    "for i in range(len(l)):\n",
    "    if l[i]%2==0:\n",
    "        even.append(l[i])\n",
    "    else:\n",
    "        odd.append(l[i])\n",
    "print(\"Even numbers in list are: \",even)"
   ]
  },
  {
   "cell_type": "markdown",
   "metadata": {},
   "source": [
    "\n",
    "8.\tWrite a Python program to print odd numbers in a List?"
   ]
  },
  {
   "cell_type": "code",
   "execution_count": 18,
   "metadata": {},
   "outputs": [
    {
     "name": "stdout",
     "output_type": "stream",
     "text": [
      "Odd numbers in list are:  [17, 63, 87, 99]\n"
     ]
    }
   ],
   "source": [
    "print(\"Odd numbers in list are: \",odd)"
   ]
  },
  {
   "cell_type": "code",
   "execution_count": null,
   "metadata": {},
   "outputs": [],
   "source": []
  },
  {
   "cell_type": "markdown",
   "metadata": {},
   "source": [
    "\n",
    "9.\tWrite a Python program to Remove empty List from List?"
   ]
  },
  {
   "cell_type": "code",
   "execution_count": 21,
   "metadata": {},
   "outputs": [
    {
     "name": "stdout",
     "output_type": "stream",
     "text": [
      "The original list is :  [15, 64, [], 37, [], [], 92]\n",
      "List after empty list removal :  [15, 64, 37, 92]\n"
     ]
    }
   ],
   "source": [
    "lista = [15, 64, [], 37, [], [], 92]\n",
    "print(\"The original list is : \",lista)\n",
    "\n",
    "res = [i for i in lista if i != []]\n",
    "print (\"List after empty list removal : \",res)\n"
   ]
  },
  {
   "cell_type": "code",
   "execution_count": null,
   "metadata": {},
   "outputs": [],
   "source": []
  },
  {
   "cell_type": "markdown",
   "metadata": {},
   "source": [
    "10.\tWrite a Python program to Cloning or Copying a list?"
   ]
  },
  {
   "cell_type": "code",
   "execution_count": 23,
   "metadata": {},
   "outputs": [
    {
     "name": "stdout",
     "output_type": "stream",
     "text": [
      "Original List: [41, 78, 22, 17, 95, 83]\n",
      "After Cloning: [41, 78, 22, 17, 95, 83]\n"
     ]
    }
   ],
   "source": [
    "def Cloning(a):\n",
    "    li_copy = [i for i in a]\n",
    "    return li_copy\n",
    "\n",
    "lista = [41, 78, 22, 17, 95, 83]\n",
    "listb = Cloning(lista)\n",
    "print(\"Original List:\", lista)\n",
    "print(\"After Cloning:\", listb)\n"
   ]
  },
  {
   "cell_type": "code",
   "execution_count": 24,
   "metadata": {},
   "outputs": [
    {
     "name": "stdout",
     "output_type": "stream",
     "text": [
      "[41, 78, 22, 17, 95, 83]\n"
     ]
    }
   ],
   "source": [
    "listc=listb\n",
    "print(listc)"
   ]
  },
  {
   "cell_type": "code",
   "execution_count": null,
   "metadata": {},
   "outputs": [],
   "source": []
  },
  {
   "cell_type": "markdown",
   "metadata": {},
   "source": [
    "\n",
    "11.\tWrite a Python program to Count occurrences of an element in a list?\n"
   ]
  },
  {
   "cell_type": "code",
   "execution_count": 33,
   "metadata": {},
   "outputs": [
    {
     "name": "stdout",
     "output_type": "stream",
     "text": [
      "Enter the element to count occurences: 5\n",
      "5 has occurred 2 times\n"
     ]
    }
   ],
   "source": [
    "from collections import Counter\n",
    "a=[1,1,2,2,2,3,5,4,5,3,2]\n",
    "b=int(input(\"Enter the element to count occurences: \"))\n",
    "d=Counter(a)\n",
    "print('{} has occurred {} times'.format(b, d[b]))   "
   ]
  },
  {
   "cell_type": "code",
   "execution_count": null,
   "metadata": {},
   "outputs": [],
   "source": []
  }
 ],
 "metadata": {
  "kernelspec": {
   "display_name": "Python 3",
   "language": "python",
   "name": "python3"
  },
  "language_info": {
   "codemirror_mode": {
    "name": "ipython",
    "version": 3
   },
   "file_extension": ".py",
   "mimetype": "text/x-python",
   "name": "python",
   "nbconvert_exporter": "python",
   "pygments_lexer": "ipython3",
   "version": "3.7.6"
  }
 },
 "nbformat": 4,
 "nbformat_minor": 4
}
