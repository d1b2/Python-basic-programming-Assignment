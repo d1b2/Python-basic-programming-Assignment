{
 "cells": [
  {
   "cell_type": "markdown",
   "metadata": {},
   "source": [
    "Q1"
   ]
  },
  {
   "cell_type": "code",
   "execution_count": 6,
   "metadata": {},
   "outputs": [
    {
     "name": "stdout",
     "output_type": "stream",
     "text": [
      "Enter the a :1\n",
      "Enter the b :10\n",
      "Enter the c :3\n"
     ]
    },
    {
     "data": {
      "text/plain": [
       "18"
      ]
     },
     "execution_count": 6,
     "metadata": {},
     "output_type": "execute_result"
    }
   ],
   "source": [
    "a=int(input(\"Enter the a :\"))\n",
    "b=int(input(\"Enter the b :\"))\n",
    "c=int(input(\"Enter the c :\"))\n",
    "def evenly_divisble(a,b,c):\n",
    "    if c>b:\n",
    "        return 0\n",
    "    else:\n",
    "        t=0\n",
    "        for i in range(a,b+1):\n",
    "            if i%c==0:\n",
    "                t+=i\n",
    "        return t\n",
    "        \n",
    "evenly_divisble(a,b,c)"
   ]
  },
  {
   "cell_type": "markdown",
   "metadata": {},
   "source": [
    "Q2"
   ]
  },
  {
   "cell_type": "code",
   "execution_count": 23,
   "metadata": {},
   "outputs": [
    {
     "name": "stdout",
     "output_type": "stream",
     "text": [
      "Enter expression :13 > 44 > 33 > 1\n"
     ]
    },
    {
     "data": {
      "text/plain": [
       "False"
      ]
     },
     "execution_count": 23,
     "metadata": {},
     "output_type": "execute_result"
    }
   ],
   "source": [
    "import re\n",
    "\n",
    "def correct_signs(s):\n",
    "    b=eval(s)\n",
    "    if b:\n",
    "        return True\n",
    "    else:\n",
    "        return False \n",
    "a=input(\"Enter expression :\")\n",
    "correct_signs(a)"
   ]
  },
  {
   "cell_type": "markdown",
   "metadata": {},
   "source": [
    "Q3"
   ]
  },
  {
   "cell_type": "code",
   "execution_count": 10,
   "metadata": {},
   "outputs": [
    {
     "name": "stdout",
     "output_type": "stream",
     "text": [
      "Enter the string: the aardvark\n",
      "Enter the special character: #\n"
     ]
    },
    {
     "data": {
      "text/plain": [
       "'th# ##rdv#rk'"
      ]
     },
     "execution_count": 10,
     "metadata": {},
     "output_type": "execute_result"
    }
   ],
   "source": [
    "def replace_vowels(a, b):\n",
    "    c = {'a': b,'e': b,'i': b,'o':b,'u':b}\n",
    "    return a.translate(str.maketrans(c))\n",
    "\n",
    "a= input(\"Enter the string: \")\n",
    "b= input(\"Enter the special character: \")\n",
    "replace_vowels(a,b)"
   ]
  },
  {
   "cell_type": "code",
   "execution_count": 12,
   "metadata": {},
   "outputs": [
    {
     "name": "stdout",
     "output_type": "stream",
     "text": [
      "Enter the string: minnie mouse\n",
      "Enter the special character: ?\n"
     ]
    },
    {
     "data": {
      "text/plain": [
       "'m?nn?? m??s?'"
      ]
     },
     "execution_count": 12,
     "metadata": {},
     "output_type": "execute_result"
    }
   ],
   "source": [
    "\n",
    "def replace_vowels(a,b):\n",
    "    return(re.sub(r\"[aeiou]\", b, a))\n",
    "\n",
    "a= input(\"Enter the string: \")\n",
    "b= input(\"Enter the special character: \")\n",
    "replace_vowels(a,b)"
   ]
  },
  {
   "cell_type": "markdown",
   "metadata": {},
   "source": [
    "Q4"
   ]
  },
  {
   "cell_type": "code",
   "execution_count": 19,
   "metadata": {},
   "outputs": [
    {
     "name": "stdout",
     "output_type": "stream",
     "text": [
      "Enter the number: 3\n"
     ]
    },
    {
     "data": {
      "text/plain": [
       "6"
      ]
     },
     "execution_count": 19,
     "metadata": {},
     "output_type": "execute_result"
    }
   ],
   "source": [
    "def factorial(n):\n",
    "    if  n< 0:\n",
    "        return \"Sorry, factorial does not exist for negative numbers\"\n",
    "    if (n==1 or n==0):\n",
    "        return 1\n",
    "    else:\n",
    "        return (n * factorial(n - 1))\n",
    "\n",
    "a= int(input(\"Enter the number: \"))\n",
    "factorial(a)"
   ]
  },
  {
   "cell_type": "markdown",
   "metadata": {},
   "source": [
    "Q5"
   ]
  },
  {
   "cell_type": "code",
   "execution_count": 21,
   "metadata": {},
   "outputs": [
    {
     "name": "stdout",
     "output_type": "stream",
     "text": [
      "Enter the string1: strong\n",
      "Enter the string2: strung\n"
     ]
    },
    {
     "data": {
      "text/plain": [
       "1"
      ]
     },
     "execution_count": 21,
     "metadata": {},
     "output_type": "execute_result"
    }
   ],
   "source": [
    "def hamming_distance(a,b):\n",
    "    t=0\n",
    "    for i in range(len(a)):\n",
    "        if a[i]!=b[i]:\n",
    "            t+=1\n",
    "    return t\n",
    "a= input(\"Enter the string1: \")\n",
    "b= input(\"Enter the string2: \")\n",
    "hamming_distance(a,b)"
   ]
  },
  {
   "cell_type": "code",
   "execution_count": null,
   "metadata": {},
   "outputs": [],
   "source": []
  }
 ],
 "metadata": {
  "kernelspec": {
   "display_name": "Python 3",
   "language": "python",
   "name": "python3"
  },
  "language_info": {
   "codemirror_mode": {
    "name": "ipython",
    "version": 3
   },
   "file_extension": ".py",
   "mimetype": "text/x-python",
   "name": "python",
   "nbconvert_exporter": "python",
   "pygments_lexer": "ipython3",
   "version": "3.7.6"
  }
 },
 "nbformat": 4,
 "nbformat_minor": 4
}
