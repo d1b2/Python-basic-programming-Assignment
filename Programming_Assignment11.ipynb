{
 "cells": [
  {
   "cell_type": "markdown",
   "metadata": {},
   "source": [
    "1.\tWrite a Python program to find words which are greater than given length k?"
   ]
  },
  {
   "cell_type": "code",
   "execution_count": 1,
   "metadata": {},
   "outputs": [
    {
     "name": "stdout",
     "output_type": "stream",
     "text": [
      "['Road', 'trips']\n"
     ]
    }
   ],
   "source": [
    "# function find string greater than length k\n",
    "def string_k(k, str):\n",
    "# create the empty string\n",
    "    string = []\n",
    "\n",
    "# split the string where space is comes\n",
    "    text = str.split(\" \")\n",
    "# iterate the loop till every substring\n",
    "    for x in text:\n",
    "\n",
    "# if length of current sub string is greater than k then\n",
    "        if len(x) > k:\n",
    "# append this sub string in string list\n",
    "            string.append(x)\n",
    "\n",
    "# return string list\n",
    "    return string\n",
    "\n",
    "\n",
    "# Driver Program\n",
    "k = 3\n",
    "str =\"Off to a Road trips\"\n",
    "print(string_k(k, str))\n"
   ]
  },
  {
   "cell_type": "code",
   "execution_count": null,
   "metadata": {},
   "outputs": [],
   "source": []
  },
  {
   "cell_type": "markdown",
   "metadata": {},
   "source": [
    "\n",
    "2.\tWrite a Python program for removing i-th character from a string?"
   ]
  },
  {
   "cell_type": "code",
   "execution_count": 5,
   "metadata": {},
   "outputs": [
    {
     "name": "stdout",
     "output_type": "stream",
     "text": [
      "Enter the string: lionking is simba\n",
      "Enter the position character to be removed: 2\n",
      "The string after removal of 2 'th character : lonking is simba\n"
     ]
    }
   ],
   "source": [
    "a=input(\"Enter the string: \")\n",
    "b=int(input(\"Enter the position character to be removed: \"))\n",
    "\n",
    "c = \"\"\n",
    "\n",
    "for i in range(len(a)):\n",
    "    if i != (b-1):\n",
    "        c = c + a[i]\n",
    "\n",
    "# Printing string after removal\n",
    "print (\"The string after removal of\", b,\"'th character : \" + c)\n"
   ]
  },
  {
   "cell_type": "code",
   "execution_count": null,
   "metadata": {},
   "outputs": [],
   "source": []
  },
  {
   "cell_type": "markdown",
   "metadata": {},
   "source": [
    "\n",
    "3.\tWrite a Python program to split and join a string?"
   ]
  },
  {
   "cell_type": "code",
   "execution_count": 2,
   "metadata": {},
   "outputs": [
    {
     "name": "stdout",
     "output_type": "stream",
     "text": [
      "['Python', 'is', 'best', 'programming', 'language']\n",
      "Python-is-best-programming-language\n"
     ]
    }
   ],
   "source": [
    "# Python program to split a string and\n",
    "# join it using different delimiter\n",
    "\n",
    "def split_string(string):\n",
    "# Split the string based on space delimiter\n",
    "    list_string = string.split(' ')\n",
    "    return list_string\n",
    "\n",
    "def join_string(list_string):\n",
    "# Join the string based on '-' delimiter\n",
    "    string = '-'.join(list_string)\n",
    "    return string\n",
    "\n",
    "# Driver Function\n",
    "if __name__ == '__main__':\n",
    "    string = 'Python is best programming language'\n",
    "\n",
    "# Splitting a string\n",
    "    list_string = split_string(string)\n",
    "    print(list_string)\n",
    "\n",
    "# Join list of strings into one\n",
    "    new_string = join_string(list_string)\n",
    "    print(new_string)\n"
   ]
  },
  {
   "cell_type": "code",
   "execution_count": null,
   "metadata": {},
   "outputs": [],
   "source": []
  },
  {
   "cell_type": "markdown",
   "metadata": {},
   "source": [
    "\n",
    "4.\tWrite a Python to check if a given string is binary string or not?"
   ]
  },
  {
   "cell_type": "code",
   "execution_count": 21,
   "metadata": {},
   "outputs": [
    {
     "name": "stdout",
     "output_type": "stream",
     "text": [
      "Enter the string :10011\n",
      "Binary String\n"
     ]
    }
   ],
   "source": [
    "#import library\n",
    "import re\n",
    "\n",
    "sampleInput = input(\"Enter the string :\")\n",
    "\n",
    "# regular expression to find the strings\n",
    "# which have characters other than 0 and 1\n",
    "c = re.compile('[^01]')\n",
    "\n",
    "# use findall() to get the list of strings\n",
    "# that have characters other than 0 and 1.\n",
    "if(len(c.findall(sampleInput))):\n",
    "    print(\"Not Binary String\") # if length of list > 0 then it is not binary\n",
    "else:\n",
    "    print(\"Binary String\") # if length of list = 0 then it is binary\n"
   ]
  },
  {
   "cell_type": "code",
   "execution_count": null,
   "metadata": {},
   "outputs": [],
   "source": []
  },
  {
   "cell_type": "markdown",
   "metadata": {},
   "source": [
    "\n",
    "5.\tWrite a Python program to find uncommon words from two Strings?"
   ]
  },
  {
   "cell_type": "code",
   "execution_count": 13,
   "metadata": {},
   "outputs": [
    {
     "name": "stdout",
     "output_type": "stream",
     "text": [
      "Enter the string 1 :lion king is simba\n",
      "Enter the string 2 :lion is king of jungle\n",
      "['simba', 'of', 'jungle']\n"
     ]
    }
   ],
   "source": [
    "def uncommon(A, B):\n",
    "    un_comm1 = [i for i in \"\".join(B).split() if i not in \"\".join(A).split()]\n",
    "    un_comm2 = [i for i in \"\".join(A).split() if i not in \"\".join(B).split()]\n",
    "    return un_comm2+un_comm1\n",
    "\n",
    "#Driver code\n",
    "A = input(\"Enter the string 1 :\")\n",
    "B = input(\"Enter the string 2 :\")\n",
    "print(uncommon(A, B))\n"
   ]
  },
  {
   "cell_type": "code",
   "execution_count": 12,
   "metadata": {},
   "outputs": [
    {
     "name": "stdout",
     "output_type": "stream",
     "text": [
      "Enter the string 1 :lion king is simba\n",
      "Enter the string 2 :lion is king of jungle\n",
      "['simba', 'of', 'jungle']\n"
     ]
    }
   ],
   "source": [
    "def uncommon(a,b):\n",
    "    a=a.split()\n",
    "    b=b.split()\n",
    "    k=set(a).symmetric_difference(set(b))\n",
    "    return k\n",
    "\n",
    "#Driver code\n",
    "if __name__==\"__main__\":\n",
    "    a=input(\"Enter the string 1 :\")\n",
    "    b=input(\"Enter the string 2 :\")\n",
    "print(list(uncommon(a,b)))\n"
   ]
  },
  {
   "cell_type": "code",
   "execution_count": null,
   "metadata": {},
   "outputs": [],
   "source": []
  },
  {
   "cell_type": "markdown",
   "metadata": {},
   "source": [
    "\n",
    "6.\tWrite a Python to find all duplicate characters in string?"
   ]
  },
  {
   "cell_type": "code",
   "execution_count": 18,
   "metadata": {},
   "outputs": [
    {
     "name": "stdout",
     "output_type": "stream",
     "text": [
      "Enter the string  :hippopautamusseeeso\n",
      "['p', 'o', 'a', 'u', 's', 'e']\n"
     ]
    }
   ],
   "source": [
    "from collections import Counter\n",
    "\n",
    "def find_duplicates(s):\n",
    "    elements = Counter(s)\n",
    "    return [k for k,v in elements.items() if v>1]\n",
    "\n",
    "a=input(\"Enter the string  :\")\n",
    "print(find_duplicates(a))\n"
   ]
  },
  {
   "cell_type": "code",
   "execution_count": null,
   "metadata": {},
   "outputs": [],
   "source": []
  },
  {
   "cell_type": "markdown",
   "metadata": {},
   "source": [
    "\n",
    "7.\tWrite a Python Program to check if a string contains any special character?\n"
   ]
  },
  {
   "cell_type": "code",
   "execution_count": 20,
   "metadata": {},
   "outputs": [
    {
     "name": "stdout",
     "output_type": "stream",
     "text": [
      "Enter the string  :abcdke@ff7*1\n",
      "String contains special character.\n"
     ]
    }
   ],
   "source": [
    "# import required package\n",
    "import re\n",
    "\n",
    "# Function checks if the string\n",
    "# contains any special character\n",
    "def run(string):\n",
    "\n",
    "# Make own character set and pass\n",
    "# this as argument in compile method\n",
    "    regex = re.compile('[@_!#$%^&*()<>?/\\|}{~:]')\n",
    "\n",
    "# Pass the string in search\n",
    "# method of regex object.\t\n",
    "    if(regex.search(string) == None):\n",
    "        print(\"String does not contains special character\")\n",
    "\n",
    "    else:\n",
    "        print(\"String contains special character\")\n",
    "\n",
    "\n",
    "# Driver Code\n",
    "if __name__ == '__main__' :\n",
    "\n",
    "# Enter the string\n",
    "    string = input(\"Enter the string  :\")\n",
    "\n",
    "# calling run function\n",
    "    run(string)\n"
   ]
  },
  {
   "cell_type": "code",
   "execution_count": null,
   "metadata": {},
   "outputs": [],
   "source": []
  },
  {
   "cell_type": "code",
   "execution_count": null,
   "metadata": {},
   "outputs": [],
   "source": []
  }
 ],
 "metadata": {
  "kernelspec": {
   "display_name": "Python 3",
   "language": "python",
   "name": "python3"
  },
  "language_info": {
   "codemirror_mode": {
    "name": "ipython",
    "version": 3
   },
   "file_extension": ".py",
   "mimetype": "text/x-python",
   "name": "python",
   "nbconvert_exporter": "python",
   "pygments_lexer": "ipython3",
   "version": "3.7.6"
  }
 },
 "nbformat": 4,
 "nbformat_minor": 4
}
