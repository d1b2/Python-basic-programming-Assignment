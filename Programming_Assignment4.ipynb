{
 "cells": [
  {
   "cell_type": "code",
   "execution_count": null,
   "metadata": {
    "id": "HbiWhTJSKq-9"
   },
   "outputs": [],
   "source": [
    "import math"
   ]
  },
  {
   "cell_type": "markdown",
   "metadata": {
    "id": "ck6zfIIpJ6sc"
   },
   "source": [
    "1.\tWrite a Python Program to Find the Factorial of a Number?\n"
   ]
  },
  {
   "cell_type": "code",
   "execution_count": null,
   "metadata": {
    "colab": {
     "base_uri": "https://localhost:8080/"
    },
    "id": "qyLv7V34KK_z",
    "outputId": "c00dfdcc-2ca2-4f5b-aabc-65d77b2fea6b"
   },
   "outputs": [
    {
     "name": "stdout",
     "output_type": "stream",
     "text": [
      "Enter Number : -5\n",
      "Factorial of  -5 does not exists.\n"
     ]
    }
   ],
   "source": [
    "a=int(input(\"Enter Number : \"))\n",
    "if a>=0:\n",
    "  print(\"Factorial of \",a,\"=\",math.factorial(a))\n",
    "else:print(\"Factorial of \",a,\"does not exists.\")\n"
   ]
  },
  {
   "cell_type": "markdown",
   "metadata": {
    "id": "ZoDu3MM5J-pH"
   },
   "source": [
    "\n",
    "2.\tWrite a Python Program to Display the multiplication Table?"
   ]
  },
  {
   "cell_type": "code",
   "execution_count": null,
   "metadata": {
    "colab": {
     "base_uri": "https://localhost:8080/"
    },
    "id": "s0vXE_T3LXrF",
    "outputId": "4376f98d-45be-4082-cc58-6d0b5879f20b"
   },
   "outputs": [
    {
     "name": "stdout",
     "output_type": "stream",
     "text": [
      "Enter Number : 5\n",
      "5.0 X 1 = 5.0\n",
      "5.0 X 2 = 10.0\n",
      "5.0 X 3 = 15.0\n",
      "5.0 X 4 = 20.0\n",
      "5.0 X 5 = 25.0\n",
      "5.0 X 6 = 30.0\n",
      "5.0 X 7 = 35.0\n",
      "5.0 X 8 = 40.0\n",
      "5.0 X 9 = 45.0\n",
      "5.0 X 10 = 50.0\n"
     ]
    }
   ],
   "source": [
    "a=float(input(\"Enter Number : \"))\n",
    "for i in range(1,11):\n",
    "  print(a,\"X\",i,\"=\",a*i)"
   ]
  },
  {
   "cell_type": "markdown",
   "metadata": {
    "id": "zvCbOzMFJ-YT"
   },
   "source": [
    "\n",
    "3.\tWrite a Python Program to Print the Fibonacci sequence?"
   ]
  },
  {
   "cell_type": "code",
   "execution_count": null,
   "metadata": {
    "colab": {
     "base_uri": "https://localhost:8080/"
    },
    "id": "RxMfHjKoNdsz",
    "outputId": "ea6d5fa8-8fcd-4c91-d11f-80fccd8e6ae2"
   },
   "outputs": [
    {
     "name": "stdout",
     "output_type": "stream",
     "text": [
      "How many terms? 2\n",
      "Fibonacci sequence upto 2 :\n",
      "0\n",
      "1\n"
     ]
    }
   ],
   "source": [
    "nterms = int(input(\"How many terms? \"))\n",
    "# first two terms\n",
    "n1, n2 = 0, 1\n",
    "count = 0\n",
    "# check if the number of terms is valid\n",
    "if nterms <= 0:\n",
    "   print(\"Please enter a positive integer\")\n",
    "# if there is only one term, return n1\n",
    "elif nterms == 1:\n",
    "   print(\"Fibonacci sequence upto\",nterms,\":\")\n",
    "   print(n1)\n",
    "# generate fibonacci sequence\n",
    "else:\n",
    "   print(\"Fibonacci sequence upto\",nterms,\":\")\n",
    "   while count < nterms:\n",
    "       print(n1)\n",
    "       nth = n1 + n2\n",
    "       # update values\n",
    "       n1 = n2\n",
    "       n2 = nth\n",
    "       count += 1"
   ]
  },
  {
   "cell_type": "markdown",
   "metadata": {
    "id": "6aG5OhdlJ-NW"
   },
   "source": [
    "\n",
    "4.\tWrite a Python Program to Check Armstrong Number?"
   ]
  },
  {
   "cell_type": "code",
   "execution_count": 3,
   "metadata": {
    "id": "W1osC--DN4t3"
   },
   "outputs": [],
   "source": [
    "# Function to calculate x raised to the power y\n",
    "def power(x, y):      \n",
    "    if y == 0:\n",
    "        return 1\n",
    "    if y % 2 == 0:\n",
    "        return power(x, y // 2) * power(x, y // 2)\n",
    "          \n",
    "    return x * power(x, y // 2) * power(x, y // 2)\n",
    "  \n",
    "# Function to calculate order of the number\n",
    "def order(x):\n",
    "    n = 0\n",
    "    while (x != 0):\n",
    "        n = n + 1\n",
    "        x = x // 10          \n",
    "    return n\n",
    "  \n",
    "def isArmstrong(x):\n",
    "      \n",
    "    n = order(x)\n",
    "    temp = x\n",
    "    sum1 = 0\n",
    "      \n",
    "    while (temp != 0):\n",
    "        r = temp % 10\n",
    "        sum1 = sum1 + power(r, n)\n",
    "        temp = temp // 10\n",
    "  \n",
    "    # If condition satisfies\n",
    "    return (sum1 == x)"
   ]
  },
  {
   "cell_type": "code",
   "execution_count": 4,
   "metadata": {},
   "outputs": [
    {
     "data": {
      "text/plain": [
       "True"
      ]
     },
     "execution_count": 4,
     "metadata": {},
     "output_type": "execute_result"
    }
   ],
   "source": [
    "isArmstrong(153)"
   ]
  },
  {
   "cell_type": "code",
   "execution_count": 5,
   "metadata": {},
   "outputs": [
    {
     "data": {
      "text/plain": [
       "False"
      ]
     },
     "execution_count": 5,
     "metadata": {},
     "output_type": "execute_result"
    }
   ],
   "source": [
    "isArmstrong(1253)"
   ]
  },
  {
   "cell_type": "markdown",
   "metadata": {
    "id": "Bk4GpDKsJ-Ck"
   },
   "source": [
    "\n",
    "5.\tWrite a Python Program to Find Armstrong Number in an Interval?"
   ]
  },
  {
   "cell_type": "code",
   "execution_count": 7,
   "metadata": {
    "id": "7u5eNVw0N5oa"
   },
   "outputs": [
    {
     "name": "stdout",
     "output_type": "stream",
     "text": [
      "100\n",
      "500\n",
      "153\n",
      "370\n",
      "371\n",
      "407\n"
     ]
    }
   ],
   "source": [
    "lower = int(input())\n",
    "upper = int(input())\n",
    "\n",
    "for num in range(lower, upper + 1):\n",
    "    order = len(str(num))# order of number\n",
    "    sum = 0 # initialize sum\n",
    "    temp = num\n",
    "    while temp > 0:\n",
    "        digit = temp % 10\n",
    "        sum += digit ** order\n",
    "        temp //= 10\n",
    "    if num == sum:\n",
    "        print(num)"
   ]
  },
  {
   "cell_type": "markdown",
   "metadata": {
    "id": "OljRAkTRJ9zr"
   },
   "source": [
    "\n",
    "6.\tWrite a Python Program to Find the Sum of Natural Numbers?"
   ]
  },
  {
   "cell_type": "code",
   "execution_count": 16,
   "metadata": {
    "id": "6yXJCUCzJ8o-"
   },
   "outputs": [],
   "source": [
    "def sum_natural(n):\n",
    "    if type(n)==int:\n",
    "        if n==0: return \"Zero is whole number\"\n",
    "        elif n<0: return \"Enter positive number greater than 0\"\n",
    "        else: return(int(0.5*n*(n+1)))\n",
    "    else: return \"Please enter natural number\""
   ]
  },
  {
   "cell_type": "code",
   "execution_count": 17,
   "metadata": {},
   "outputs": [
    {
     "data": {
      "text/plain": [
       "'Zero is whole number'"
      ]
     },
     "execution_count": 17,
     "metadata": {},
     "output_type": "execute_result"
    }
   ],
   "source": [
    "sum_natural(0)"
   ]
  },
  {
   "cell_type": "code",
   "execution_count": 18,
   "metadata": {},
   "outputs": [
    {
     "data": {
      "text/plain": [
       "'Please enter natural number'"
      ]
     },
     "execution_count": 18,
     "metadata": {},
     "output_type": "execute_result"
    }
   ],
   "source": [
    "sum_natural(1.2)"
   ]
  },
  {
   "cell_type": "code",
   "execution_count": 19,
   "metadata": {},
   "outputs": [
    {
     "data": {
      "text/plain": [
       "3"
      ]
     },
     "execution_count": 19,
     "metadata": {},
     "output_type": "execute_result"
    }
   ],
   "source": [
    "sum_natural(2)"
   ]
  },
  {
   "cell_type": "code",
   "execution_count": null,
   "metadata": {},
   "outputs": [],
   "source": []
  }
 ],
 "metadata": {
  "colab": {
   "name": "Programming_Assignment4",
   "provenance": []
  },
  "kernelspec": {
   "display_name": "Python 3",
   "language": "python",
   "name": "python3"
  },
  "language_info": {
   "codemirror_mode": {
    "name": "ipython",
    "version": 3
   },
   "file_extension": ".py",
   "mimetype": "text/x-python",
   "name": "python",
   "nbconvert_exporter": "python",
   "pygments_lexer": "ipython3",
   "version": "3.7.6"
  }
 },
 "nbformat": 4,
 "nbformat_minor": 1
}
